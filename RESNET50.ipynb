{
  "nbformat": 4,
  "nbformat_minor": 0,
  "metadata": {
    "colab": {
      "name": "BTP_ADVAITH_ALENKRITH_PAGIDIPALLY_170010024",
      "provenance": [],
      "collapsed_sections": []
    },
    "kernelspec": {
      "display_name": "Python 3",
      "name": "python3"
    },
    "language_info": {
      "name": "python"
    }
  },
  "cells": [
    {
      "cell_type": "markdown",
      "metadata": {
        "id": "DIrDTGSMi5nE"
      },
      "source": [
        "**Defining Libraries**\n",
        "\n"
      ]
    },
    {
      "cell_type": "code",
      "metadata": {
        "colab": {
          "base_uri": "https://localhost:8080/"
        },
        "id": "Z8P6Ah_Biy4F",
        "outputId": "c9e596e8-4314-45a6-a369-8f24e7afbb82"
      },
      "source": [
        "! pip install imgaug #importing the required libraries\n",
        "! pip install https://github.com/pandas-profiling/pandas-profiling/archive/master.zip \n",
        "from sklearn.preprocessing import LabelEncoder , OneHotEncoder\n",
        "import PIL \n",
        "from PIL import Image\n",
        "import glob\n",
        "import random\n",
        "import numpy as np\n",
        "from sklearn.model_selection import train_test_split\n",
        "from numpy import asarray\n",
        "import statistics\n",
        "from IPython.display import display\n",
        "import skimage\n",
        "from skimage import io as skio\n",
        "from skimage import filters\n",
        "import matplotlib.pyplot as plt\n",
        "%matplotlib inline\n",
        "from keras.preprocessing import image\n",
        "from keras.preprocessing.image import img_to_array\n",
        "from keras.applications.resnet50 import preprocess_input\n",
        "from keras.applications.imagenet_utils import decode_predictions\n",
        "from keras.preprocessing.image import ImageDataGenerator\n",
        "import cv2\n",
        "from google.colab.patches import cv2_imshow\n",
        "import json\n",
        "from keras.applications.resnet50 import ResNet50\n",
        "import codecs\n",
        "from pandas_profiling import ProfileReport\n",
        "import pandas as pd\n",
        "import imageio\n",
        "import imgaug as ia\n",
        "import imgaug.augmenters as iaa\n",
        "import matplotlib.patches as patches\n",
        "import matplotlib\n",
        "import numpy as np\n",
        "from keras import layers\n",
        "from keras.layers import Input, Add, Dense, Activation, ZeroPadding2D, BatchNormalization, Flatten, Conv2D, AveragePooling2D, MaxPooling2D, GlobalMaxPooling2D\n",
        "from keras.models import Model, load_model\n",
        "from keras.utils import layer_utils\n",
        "from keras.utils.data_utils import get_file\n",
        "import pydot\n",
        "from IPython.display import SVG\n",
        "from keras.utils.vis_utils import model_to_dot\n",
        "from keras.utils import plot_model\n",
        "from keras.initializers import glorot_uniform\n",
        "import scipy.misc\n",
        "from matplotlib.pyplot import imshow\n",
        "from keras.initializers import glorot_uniform\n",
        "import scipy\n",
        "from keras import backend as keras_back"
      ],
      "execution_count": null,
      "outputs": [
        {
          "output_type": "stream",
          "text": [
            "Requirement already satisfied: imgaug in /usr/local/lib/python3.7/dist-packages (0.2.9)\n",
            "Requirement already satisfied: numpy>=1.15.0 in /usr/local/lib/python3.7/dist-packages (from imgaug) (1.19.5)\n",
            "Requirement already satisfied: scipy in /usr/local/lib/python3.7/dist-packages (from imgaug) (1.4.1)\n",
            "Requirement already satisfied: Shapely in /usr/local/lib/python3.7/dist-packages (from imgaug) (1.7.1)\n",
            "Requirement already satisfied: scikit-image>=0.11.0 in /usr/local/lib/python3.7/dist-packages (from imgaug) (0.16.2)\n",
            "Requirement already satisfied: imageio in /usr/local/lib/python3.7/dist-packages (from imgaug) (2.4.1)\n",
            "Requirement already satisfied: six in /usr/local/lib/python3.7/dist-packages (from imgaug) (1.15.0)\n",
            "Requirement already satisfied: matplotlib in /usr/local/lib/python3.7/dist-packages (from imgaug) (3.2.2)\n",
            "Requirement already satisfied: Pillow in /usr/local/lib/python3.7/dist-packages (from imgaug) (7.1.2)\n",
            "Requirement already satisfied: opencv-python in /usr/local/lib/python3.7/dist-packages (from imgaug) (4.1.2.30)\n",
            "Requirement already satisfied: PyWavelets>=0.4.0 in /usr/local/lib/python3.7/dist-packages (from scikit-image>=0.11.0->imgaug) (1.1.1)\n",
            "Requirement already satisfied: networkx>=2.0 in /usr/local/lib/python3.7/dist-packages (from scikit-image>=0.11.0->imgaug) (2.5.1)\n",
            "Requirement already satisfied: pyparsing!=2.0.4,!=2.1.2,!=2.1.6,>=2.0.1 in /usr/local/lib/python3.7/dist-packages (from matplotlib->imgaug) (2.4.7)\n",
            "Requirement already satisfied: python-dateutil>=2.1 in /usr/local/lib/python3.7/dist-packages (from matplotlib->imgaug) (2.8.1)\n",
            "Requirement already satisfied: kiwisolver>=1.0.1 in /usr/local/lib/python3.7/dist-packages (from matplotlib->imgaug) (1.3.1)\n",
            "Requirement already satisfied: cycler>=0.10 in /usr/local/lib/python3.7/dist-packages (from matplotlib->imgaug) (0.10.0)\n",
            "Requirement already satisfied: decorator<5,>=4.3 in /usr/local/lib/python3.7/dist-packages (from networkx>=2.0->scikit-image>=0.11.0->imgaug) (4.4.2)\n",
            "Collecting https://github.com/pandas-profiling/pandas-profiling/archive/master.zip\n",
            "  Using cached https://github.com/pandas-profiling/pandas-profiling/archive/master.zip\n",
            "Requirement already satisfied (use --upgrade to upgrade): pandas-profiling==2.12.0 from https://github.com/pandas-profiling/pandas-profiling/archive/master.zip in /usr/local/lib/python3.7/dist-packages\n",
            "Requirement already satisfied: joblib in /usr/local/lib/python3.7/dist-packages (from pandas-profiling==2.12.0) (1.0.1)\n",
            "Requirement already satisfied: scipy>=1.4.1 in /usr/local/lib/python3.7/dist-packages (from pandas-profiling==2.12.0) (1.4.1)\n",
            "Requirement already satisfied: pandas!=1.0.0,!=1.0.1,!=1.0.2,!=1.1.0,>=0.25.3 in /usr/local/lib/python3.7/dist-packages (from pandas-profiling==2.12.0) (1.1.5)\n",
            "Requirement already satisfied: matplotlib>=3.2.0 in /usr/local/lib/python3.7/dist-packages (from pandas-profiling==2.12.0) (3.2.2)\n",
            "Requirement already satisfied: confuse>=1.0.0 in /usr/local/lib/python3.7/dist-packages (from pandas-profiling==2.12.0) (1.4.0)\n",
            "Requirement already satisfied: jinja2>=2.11.1 in /usr/local/lib/python3.7/dist-packages (from pandas-profiling==2.12.0) (2.11.3)\n",
            "Requirement already satisfied: visions[type_image_path]==0.6.0 in /usr/local/lib/python3.7/dist-packages (from pandas-profiling==2.12.0) (0.6.0)\n",
            "Requirement already satisfied: numpy>=1.16.0 in /usr/local/lib/python3.7/dist-packages (from pandas-profiling==2.12.0) (1.19.5)\n",
            "Requirement already satisfied: attrs>=19.3.0 in /usr/local/lib/python3.7/dist-packages (from pandas-profiling==2.12.0) (20.3.0)\n",
            "Requirement already satisfied: htmlmin>=0.1.12 in /usr/local/lib/python3.7/dist-packages (from pandas-profiling==2.12.0) (0.1.12)\n",
            "Requirement already satisfied: missingno>=0.4.2 in /usr/local/lib/python3.7/dist-packages (from pandas-profiling==2.12.0) (0.4.2)\n",
            "Requirement already satisfied: phik>=0.11.1 in /usr/local/lib/python3.7/dist-packages (from pandas-profiling==2.12.0) (0.11.2)\n",
            "Requirement already satisfied: tangled-up-in-unicode>=0.0.6 in /usr/local/lib/python3.7/dist-packages (from pandas-profiling==2.12.0) (0.0.7)\n",
            "Requirement already satisfied: requests>=2.24.0 in /usr/local/lib/python3.7/dist-packages (from pandas-profiling==2.12.0) (2.25.1)\n",
            "Requirement already satisfied: tqdm>=4.48.2 in /usr/local/lib/python3.7/dist-packages (from pandas-profiling==2.12.0) (4.60.0)\n",
            "Requirement already satisfied: seaborn>=0.10.1 in /usr/local/lib/python3.7/dist-packages (from pandas-profiling==2.12.0) (0.11.1)\n",
            "Requirement already satisfied: pytz>=2017.2 in /usr/local/lib/python3.7/dist-packages (from pandas!=1.0.0,!=1.0.1,!=1.0.2,!=1.1.0,>=0.25.3->pandas-profiling==2.12.0) (2018.9)\n",
            "Requirement already satisfied: python-dateutil>=2.7.3 in /usr/local/lib/python3.7/dist-packages (from pandas!=1.0.0,!=1.0.1,!=1.0.2,!=1.1.0,>=0.25.3->pandas-profiling==2.12.0) (2.8.1)\n",
            "Requirement already satisfied: pyparsing!=2.0.4,!=2.1.2,!=2.1.6,>=2.0.1 in /usr/local/lib/python3.7/dist-packages (from matplotlib>=3.2.0->pandas-profiling==2.12.0) (2.4.7)\n",
            "Requirement already satisfied: cycler>=0.10 in /usr/local/lib/python3.7/dist-packages (from matplotlib>=3.2.0->pandas-profiling==2.12.0) (0.10.0)\n",
            "Requirement already satisfied: kiwisolver>=1.0.1 in /usr/local/lib/python3.7/dist-packages (from matplotlib>=3.2.0->pandas-profiling==2.12.0) (1.3.1)\n",
            "Requirement already satisfied: pyyaml in /usr/local/lib/python3.7/dist-packages (from confuse>=1.0.0->pandas-profiling==2.12.0) (3.13)\n",
            "Requirement already satisfied: MarkupSafe>=0.23 in /usr/local/lib/python3.7/dist-packages (from jinja2>=2.11.1->pandas-profiling==2.12.0) (1.1.1)\n",
            "Requirement already satisfied: networkx>=2.4 in /usr/local/lib/python3.7/dist-packages (from visions[type_image_path]==0.6.0->pandas-profiling==2.12.0) (2.5.1)\n",
            "Requirement already satisfied: Pillow; extra == \"type_image_path\" in /usr/local/lib/python3.7/dist-packages (from visions[type_image_path]==0.6.0->pandas-profiling==2.12.0) (7.1.2)\n",
            "Requirement already satisfied: imagehash; extra == \"type_image_path\" in /usr/local/lib/python3.7/dist-packages (from visions[type_image_path]==0.6.0->pandas-profiling==2.12.0) (4.2.0)\n",
            "Requirement already satisfied: chardet<5,>=3.0.2 in /usr/local/lib/python3.7/dist-packages (from requests>=2.24.0->pandas-profiling==2.12.0) (3.0.4)\n",
            "Requirement already satisfied: certifi>=2017.4.17 in /usr/local/lib/python3.7/dist-packages (from requests>=2.24.0->pandas-profiling==2.12.0) (2020.12.5)\n",
            "Requirement already satisfied: idna<3,>=2.5 in /usr/local/lib/python3.7/dist-packages (from requests>=2.24.0->pandas-profiling==2.12.0) (2.10)\n",
            "Requirement already satisfied: urllib3<1.27,>=1.21.1 in /usr/local/lib/python3.7/dist-packages (from requests>=2.24.0->pandas-profiling==2.12.0) (1.24.3)\n",
            "Requirement already satisfied: six>=1.5 in /usr/local/lib/python3.7/dist-packages (from python-dateutil>=2.7.3->pandas!=1.0.0,!=1.0.1,!=1.0.2,!=1.1.0,>=0.25.3->pandas-profiling==2.12.0) (1.15.0)\n",
            "Requirement already satisfied: decorator<5,>=4.3 in /usr/local/lib/python3.7/dist-packages (from networkx>=2.4->visions[type_image_path]==0.6.0->pandas-profiling==2.12.0) (4.4.2)\n",
            "Requirement already satisfied: PyWavelets in /usr/local/lib/python3.7/dist-packages (from imagehash; extra == \"type_image_path\"->visions[type_image_path]==0.6.0->pandas-profiling==2.12.0) (1.1.1)\n",
            "Building wheels for collected packages: pandas-profiling\n",
            "  Building wheel for pandas-profiling (setup.py) ... \u001b[?25l\u001b[?25hdone\n",
            "  Created wheel for pandas-profiling: filename=pandas_profiling-2.12.0-py2.py3-none-any.whl size=244887 sha256=3d47a9da39c47eb7e73cd9218d66ec14e9def8d722536775ce8e2bd57b7b37ae\n",
            "  Stored in directory: /tmp/pip-ephem-wheel-cache-w60epnk3/wheels/56/c2/dd/8d945b0443c35df7d5f62fa9e9ae105a2d8b286302b92e0109\n",
            "Successfully built pandas-profiling\n"
          ],
          "name": "stdout"
        }
      ]
    },
    {
      "cell_type": "markdown",
      "metadata": {
        "id": "f-cuE4cVfHCo"
      },
      "source": [
        "**Dataset Preparation and Assigning Image Labels**"
      ]
    },
    {
      "cell_type": "markdown",
      "metadata": {
        "id": "IaAbCvZJjchH"
      },
      "source": [
        "**Converting to PNG and Assigning Labels and Creating a complete Dataset**"
      ]
    },
    {
      "cell_type": "code",
      "metadata": {
        "id": "uT9lFAY4jj-k"
      },
      "source": [
        "Original_Covid_List = []\n",
        "Original_nocovid_List = []\n",
        "Labelled_List = [] #preparing a labelled list where covid images ends with 1 and non covid with 0\n",
        "count = 0\n",
        "for i in glob.glob(r\"/content/drive/MyDrive/End_Sem/BTP_COVID19/Datasets/Original_Dataset/Covid/*\"): #giving the address \n",
        "    url = \"/content/drive/MyDrive/End_Sem/BTP_COVID19/Datasets/Labelled_Dataset/\" + str(count) + \".1.png\" #storing address and converting to png\n",
        "    img = Image.open(i)\n",
        "    img.save(url) #saving the image for later purposes\n",
        "    count = count+1;\n",
        "for i in glob.glob(r\"/content/drive/MyDrive/End_Sem/BTP_COVID19/Datasets/Original_Dataset/No_Covid/*\"): #giving the address\n",
        "    url = \"/content/drive/MyDrive/End_Sem/BTP_COVID19/Datasets/Labelled_Dataset/\" + str(count) + \".0.png\" #storing address and converting to png\n",
        "    img = Image.open(i) #opening the image\n",
        "    img.save(url) #saving the image\n",
        "    count = count+1;\n",
        "for i in glob.glob(r\"/content/drive/MyDrive/End_Sem/BTP_COVID19/Datasets/Original_Dataset/Covid/*\"):\n",
        "    Original_Covid_List.append(i) #creating covid list\n",
        "for i in glob.glob(r\"/content/drive/MyDrive/End_Sem/BTP_COVID19/Datasets/Original_Dataset/No_Covid/*\"):\n",
        "    Original_nocovid_List.append(i) #creating nocovid list\n",
        "for i in glob.glob(r\"/content/drive/MyDrive/End_Sem/BTP_COVID19/Datasets/Labelled_Dataset/*\"):\n",
        "    Labelled_List.append(i) #creating labelled list\n",
        "print(\"Number of Covid Images =\" + str(len(Original_Covid_List))) #printing number of Covid Images\n",
        "print(\"Number of No_Covid Images =\" + str(len(Original_nocovid_List))) #printing number of Non Covid Images\n",
        "print(\"Number of Labelled Images =\" + str(len(Labelled_List))) # printing total number of Images"
      ],
      "execution_count": null,
      "outputs": []
    },
    {
      "cell_type": "markdown",
      "metadata": {
        "id": "JgPhY7ZIpE5k"
      },
      "source": [
        "**Extracting ROI**"
      ]
    },
    {
      "cell_type": "code",
      "metadata": {
        "id": "B4eVPKsBmwit"
      },
      "source": [
        "count = 0\n",
        "for i in glob.glob(r\"/content/drive/MyDrive/End_Sem/BTP_COVID19/Datasets/Labelled_Dataset/*\"): #looping over all images\n",
        "    light_spots = [] #initializing a lsit to store white color pixels \n",
        "    img = Image.open(i).convert('RGB')\n",
        "    img = img.resize((224,224)) #resize the image \n",
        "    if i.endswith(\"1.png\"): label = 1\n",
        "    if i.endswith(\"0.png\"): label = 0\n",
        "    pixels = asarray(img) #getting the values of the image\n",
        "    for j in range(0,224): #looping over all the pixels \n",
        "        for k in range(0,224):\n",
        "            if pixels[j][k][0] > 250 and pixels[j][k][1] > 250 and pixels[j][k][2] > 250:\n",
        "                light_spots.append([j,k]) #appending all the light spots\n",
        "    l_h_x = 0\n",
        "    r_l_x = 224\n",
        "    t_h_y = 0\n",
        "    b_l_y = 224\n",
        "    for i in light_spots:\n",
        "        if i[0] > l_h_x and i[0] < 30: #extracting the required pixels\n",
        "            l_h_x = i[0]\n",
        "        if i[1] > t_h_y and i[1] < 30: #extracting the required pixels\n",
        "            t_h_y = i[1]\n",
        "        if i[0] < r_l_x and i[0] > 190: #extracting the required pixels\n",
        "            r_l_x = i[0]\n",
        "        if i[1] < b_l_y and i[1] > 190: #extracting the required pixels\n",
        "            b_l_y = i[1]\n",
        "    Cropped_Image = img.crop((l_h_x - 5, t_h_y - 5, r_l_x + 5, b_l_y + 5)) #cropping the image\n",
        "    ROI.append(Cropped_Image)\n",
        "    url = \"/content/drive/MyDrive/End_Sem/BTP_COVID19/Datasets/ROI/\" + str(count) + \".\" + str(label) + \".png\" #storing address\n",
        "    Cropped_Image.save(url) #saving the image\n",
        "    count = count + 1\n"
      ],
      "execution_count": null,
      "outputs": []
    },
    {
      "cell_type": "markdown",
      "metadata": {
        "id": "23V3Mzc4DH6O"
      },
      "source": [
        "**Augmenting The Data**"
      ]
    },
    {
      "cell_type": "code",
      "metadata": {
        "id": "4Z5NDuZcDFqJ"
      },
      "source": [
        "count = 0\n",
        "augmented_images = []\n",
        "o = -1\n",
        "for i in glob.glob(r\"/content/drive/MyDrive/End_Sem/BTP_COVID19/Datasets/ROI/*\"): #looping over ROI images\n",
        "    j = random.randint(0,4) #generating a random number \n",
        "    if j == 0: # checking the condition\n",
        "        image = imageio.imread(i) #reading the image\n",
        "        c = iaa.GammaContrast(gamma=2.0) #contrast\n",
        "        image = c.augment_image(image)\n",
        "        augmented_images.append(image)\n",
        "        if i.endswith(\"1.png\"):\n",
        "            o = 1\n",
        "        else:\n",
        "            o = 0\n",
        "        image = Image.fromarray(image)\n",
        "        url = \"/content/drive/MyDrive/End_Sem/BTP_COVID19/Datasets/Augmented_Datset/\" + str(count) + \".\" + str(o) + \".png\" #storing address\n",
        "        image.save(url)\n",
        "        count = count + 1\n",
        "    if j == 1: # checking the condition \n",
        "        image = imageio.imread(i) #reading the image\n",
        "        f = iaa.Fliplr(p=1.0) #flipping the image\n",
        "        image = f.augment_image(image)\n",
        "        augmented_images.append(image) #appending the image\n",
        "        if i.endswith(\"1.png\"): #getting the label\n",
        "            o = 1\n",
        "        else:\n",
        "            o = 0\n",
        "        image = Image.fromarray(image)\n",
        "        url = \"/content/drive/MyDrive/End_Sem/BTP_COVID19/Datasets/Augmented_Datset/\" + str(count) + \".\" + str(o) + \".png\" #storing address #storing the image\n",
        "        image.save(url)\n",
        "        count = count + 1\n",
        "    if j == 2: # checking the condition\n",
        "        image = imageio.imread(i) #reading the image\n",
        "        r = iaa.Affine(rotate=(-40, 20)) #rotating the image \n",
        "        image = r.augment_image(image)\n",
        "        augmented_images.append(image) #appending the image\n",
        "        if i.endswith(\"1.png\"): #getting the label\n",
        "            o = 1\n",
        "        else:\n",
        "            o = 0\n",
        "        image = Image.fromarray(image)\n",
        "        url = \"/content/drive/MyDrive/End_Sem/BTP_COVID19/Datasets/Augmented_Datset/\" + str(count) + \".\" + str(o) + \".png\" #storing address\n",
        "        image.save(url)\n",
        "        count = count + 1\n",
        "    if j == 3: # checking the condition\n",
        "        image = imageio.imread(i) #reading the image\n",
        "        s = iaa.Affine(shear=(0,20)) #shearing \n",
        "        image = s.augment_image(image)\n",
        "        augmented_images.append(image) #appending the image\n",
        "        if i.endswith(\"1.png\"): #getting the label\n",
        "            o = 1\n",
        "        else:\n",
        "            o = 0\n",
        "        image = Image.fromarray(image)\n",
        "        url = \"/content/drive/MyDrive/End_Sem/BTP_COVID19/Datasets/Augmented_Datset/\" + str(count) + \".\" + str(o) + \".png\" #storing address\n",
        "        image.save(url)\n",
        "        count = count + 1\n",
        "    if j == 4: # checking the condition\n",
        "        image = imageio.imread(i) #reading the image\n",
        "        g = iaa.AdditiveGaussianNoise(15,20) #adding noise\n",
        "        image = g.augment_image(image)\n",
        "        augmented_images.append(image) #appending the image\n",
        "        if i.endswith(\"1.png\"): #getting the label\n",
        "            o = 1\n",
        "        else:\n",
        "            o = 0\n",
        "        image = Image.fromarray(image)\n",
        "        url = \"/content/drive/MyDrive/End_Sem/BTP_COVID19/Datasets/Augmented_Datset/\" + str(count) + \".\" + str(o) + \".png\" #storing address\n",
        "        image.save(url)\n",
        "        count = count + 1\n"
      ],
      "execution_count": null,
      "outputs": []
    },
    {
      "cell_type": "markdown",
      "metadata": {
        "id": "Z-DK_ZfgQYMR"
      },
      "source": [
        "**Retrieving the ROI Data and Augmented Data into a list for further processing**"
      ]
    },
    {
      "cell_type": "code",
      "metadata": {
        "colab": {
          "base_uri": "https://localhost:8080/"
        },
        "id": "SOGOSDsYWfmW",
        "outputId": "e9ef4f54-f2c6-4a18-aaa5-e50d4b9a9334"
      },
      "source": [
        "Order_List = []\n",
        "Labelled_List = []\n",
        "Normalization = []\n",
        "for i in glob.glob(r\"/content/drive/MyDrive/End_Sem/BTP_COVID19/Datasets/ROI/*\"): #giving the address to retrieve the elements \n",
        "    if i.endswith(\"1.png\"): #checking if it is a covid image\n",
        "        Labelled_List.append(img) #appending to the list\n",
        "        Order_List.append(1) #appending the label\n",
        "        img = cv2.imread(i)\n",
        "        res_img = cv2.resize(img, (224,224))\n",
        "        Normalization.append(res_img)\n",
        "    if i.endswith(\"0.png\"): #checking if it is a non covid image\n",
        "        Labelled_List.append(img) #appending to the list\n",
        "        Order_List.append(0) #appending the label\n",
        "        img = cv2.imread(i)\n",
        "        res_img = cv2.resize(img, (224,224))\n",
        "        Normalization.append(res_img)\n",
        "for i in glob.glob(r\"/content/drive/MyDrive/End_Sem/BTP_COVID19/Datasets/Augmented_Datset/*\"): #giving the address to retrieve the elements \n",
        "    if i.endswith(\"1.png\"): #checking if it is a covid image\n",
        "        Labelled_List.append(img) #appending to the list\n",
        "        Order_List.append(1) #appending the label\n",
        "        img = cv2.imread(i)\n",
        "        res_img = cv2.resize(img, (224,224))\n",
        "        Normalization.append(res_img)\n",
        "    if i.endswith(\"0.png\"): #checking if it is a non covid image\n",
        "        Labelled_List.append(img) #appending to the list\n",
        "        Order_List.append(0) #appending the label\n",
        "        img = cv2.imread(i)\n",
        "        res_img = cv2.resize(img, (224,224))\n",
        "        Normalization.append(res_img)\n",
        "print(\"Number of Total Images = \",len(Labelled_List)) #printing total number of images\n",
        "print(\"Number of Total Labels = \",len(Order_List)) #printing total number of labels"
      ],
      "execution_count": null,
      "outputs": [
        {
          "output_type": "stream",
          "text": [
            "Number of Total Images =  1332\n",
            "Number of Total Labels =  1332\n"
          ],
          "name": "stdout"
        }
      ]
    },
    {
      "cell_type": "markdown",
      "metadata": {
        "id": "YvWfdWgEtsuQ"
      },
      "source": [
        "**Normalization**"
      ]
    },
    {
      "cell_type": "code",
      "metadata": {
        "id": "ylWupVoruYp7"
      },
      "source": [
        "Normalization = np.array(Normalization) #converting to ndarray\n",
        "Normalization = Normalization.astype('float32') / 255.0 #dividing the values by 255 to normalize the images\n",
        "#Alternate Logic\n",
        "#for i in glob.glob(r\"\"):\n",
        "    #ROI.append(i) #creating labelled list\n",
        "    #pix = i.load()\n",
        "    #for j in range(0,224):\n",
        "        #for k in range(0,224):\n",
        "            #l = pix[j,k][0]\n",
        "            #m = pix[j,k][1]\n",
        "            #n = pix[j,k][2]\n",
        "            #pix[j,k] = (int(l/255),int(m/255),int(n/255))"
      ],
      "execution_count": null,
      "outputs": []
    },
    {
      "cell_type": "markdown",
      "metadata": {
        "id": "ANvqaBP0uWpy"
      },
      "source": [
        "**Centering**"
      ]
    },
    {
      "cell_type": "code",
      "metadata": {
        "id": "0s-BgM74tzXG"
      },
      "source": [
        "centering = []\n",
        "for i in Normalization:\n",
        "    mean = i.mean() #finding the mean of the pixels\n",
        "    centering.append(i - mean) #appending to the list the resultant value after doing the subtraction\n",
        "#Alternate Logic\n",
        "#for j in range(0,224):\n",
        "        #for k in range(0,224):\n",
        "            #for l in range(0,3):\n",
        "                #count = count + pixels[j,k][l]\n",
        "    #mean = count/150528;\n",
        "    #for j in range(0,224):\n",
        "        #for k in range(0,224):\n",
        "            #l = pixels[j,k][0]\n",
        "            #m = pixels[j,k][1]\n",
        "            #n = pixels[j,k][2]\n",
        "            #pixels[j,k] = (int(l - mean),int(m - mean),int(n - mean))"
      ],
      "execution_count": null,
      "outputs": []
    },
    {
      "cell_type": "markdown",
      "metadata": {
        "id": "YQh7RS1MvNxt"
      },
      "source": [
        "**Standardization**"
      ]
    },
    {
      "cell_type": "code",
      "metadata": {
        "id": "KMvUf9ifza6O"
      },
      "source": [
        "Deviation = []\n",
        "for i in centering:\n",
        "    std = i.std() #finding the standard deviation\n",
        "    Deviation.append(i/std) #appending to the deviation list\n",
        "#Alternate Logic\n",
        "#for j in range(0,224):\n",
        "        #for k in range(0,224):\n",
        "            #for l in range(0,3):\n",
        "                #values.append(pixels[j,k][l])\n",
        "    #std = statistics.pstdev(values)\n",
        "    #for j in range(0,224):\n",
        "        #for k in range(0,224):\n",
        "            #l = pixels[j,k][0]\n",
        "            #m = pixels[j,k][1]\n",
        "            #n = pixels[j,k][2]\n",
        "            #pixels[j,k] = (int(l/std),int(m/std),int(n/std))"
      ],
      "execution_count": null,
      "outputs": []
    },
    {
      "cell_type": "markdown",
      "metadata": {
        "id": "itDIpOOJUfUo"
      },
      "source": [
        "**Dividing the Dataset into Training and Testing Dataset!**"
      ]
    },
    {
      "cell_type": "code",
      "metadata": {
        "colab": {
          "base_uri": "https://localhost:8080/"
        },
        "id": "pdPG6c5TQmR5",
        "outputId": "7bd2ae24-52d2-486e-c6a3-12484e618761"
      },
      "source": [
        "l = []\n",
        "final_training = []\n",
        "final_testing = []\n",
        "final_testing_type = []\n",
        "final_training_type = []\n",
        "for i in range(0,len(Labelled_List)):\n",
        "    l.append([Deviation[i],Order_List[i]])\n",
        "random.shuffle(l) #randomizing the list\n",
        "training,testing = train_test_split(l,test_size=0.20) #splitting the data into train and test\n",
        "print(\"Number of Images for Training = \" + str(len(training)) ) #printing the length of the list\n",
        "print(\"Number of Images for Testing = \" + str(len(testing)) )\n",
        "for i in training: #getting the array and label\n",
        "    final_training.append(i[0])\n",
        "    final_training_type.append(i[1])\n",
        "for i in testing: #getting the array and label\n",
        "    final_testing.append(i[0])\n",
        "    final_testing_type.append(i[1])\n",
        "with open('/content/drive/MyDrive/End_Sem/BTP_COVID19/Datasets/training.txt', 'w') as f: #saving it as text files\n",
        "    f.write(str(final_training))\n",
        "with open('/content/drive/MyDrive/End_Sem/BTP_COVID19/Datasets/training_order.txt', 'w') as g:\n",
        "    g.write(str(final_training_type))\n",
        "with open('/content/drive/MyDrive/End_Sem/BTP_COVID19/Datasets/testing.txt', 'w') as h:\n",
        "    h.write(str(final_testing))\n",
        "with open('/content/drive/MyDrive/End_Sem/BTP_COVID19/Datasets/testing_order.txt', 'w') as j:\n",
        "    j.write(str(final_testing_type))\n",
        "final_training_type = np.array(final_training_type) #converting them to ndarrays\n",
        "final_training = np.array(final_training)\n",
        "final_testing_type = np.array(final_testing_type)\n",
        "final_testing = np.array(final_testing)"
      ],
      "execution_count": null,
      "outputs": [
        {
          "output_type": "stream",
          "text": [
            "Number of Images for Training = 1065\n",
            "Number of Images for Testing = 267\n"
          ],
          "name": "stdout"
        }
      ]
    },
    {
      "cell_type": "markdown",
      "metadata": {
        "id": "cmRoAaMKxvFm"
      },
      "source": [
        "\n",
        "**RESNET 50 - Pre-trained RESNET**"
      ]
    },
    {
      "cell_type": "code",
      "metadata": {
        "colab": {
          "base_uri": "https://localhost:8080/"
        },
        "id": "EE_SBRyuxzi2",
        "outputId": "7df51f0b-e0c6-4895-b216-78239fd39bfe"
      },
      "source": [
        "model = ResNet50(weights='imagenet') #setting the pretrained model\n",
        "result = model.predict(final_training) #predicting the result\n",
        "for i in range(0,5): #showing the result\n",
        "    print(decode_predictions(result, top=1)[i])"
      ],
      "execution_count": null,
      "outputs": [
        {
          "output_type": "stream",
          "text": [
            "[('n01930112', 'nematode', 0.029502422)]\n",
            "[('n04447861', 'toilet_seat', 0.03976858)]\n",
            "[('n03729826', 'matchstick', 0.10471574)]\n",
            "[('n02840245', 'binder', 0.040579434)]\n",
            "[('n02840245', 'binder', 0.048188362)]\n"
          ],
          "name": "stdout"
        }
      ]
    },
    {
      "cell_type": "markdown",
      "metadata": {
        "id": "mhZKefWr9JzI"
      },
      "source": [
        "![nematode-shutterstock-102522-1512494641.jpg](data:image/jpeg;base64,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)"
      ]
    },
    {
      "cell_type": "markdown",
      "metadata": {
        "id": "bhwEpcsw-Xbj"
      },
      "source": [
        "**Step - 5: RESNET 50 - From Scratch**"
      ]
    },
    {
      "cell_type": "markdown",
      "metadata": {
        "id": "aYmX_FSgwuEe"
      },
      "source": [
        "**CONV_BN_RELU**"
      ]
    },
    {
      "cell_type": "code",
      "metadata": {
        "id": "jMWau4MHwyiD"
      },
      "source": [
        "def CONV_BN_RELU(X,Identity_Block_filters,i_kernal_size,i_strides,i_padding,i_axis): #defining the function\n",
        "    X = Conv2D(filters = Identity_Block_filters,kernel_size = i_kernal_size, strides = i_strides, padding = i_padding ) (X) #CONV2d\n",
        "    X = BatchNormalization(axis = i_axis)(X) #BN\n",
        "    X = Activation('relu')(X) #RELU\n",
        "    return X\n"
      ],
      "execution_count": null,
      "outputs": []
    },
    {
      "cell_type": "markdown",
      "metadata": {
        "id": "7UbuSNzj1kWo"
      },
      "source": [
        "**CONV_BN_RELU_NO_GIVEN_PADDING**"
      ]
    },
    {
      "cell_type": "code",
      "metadata": {
        "id": "bNtPxRu71iP5"
      },
      "source": [
        "def CONV_BN_RELU_NO_PADDING(X,Identity_Block_filters,i_kernal_size,i_strides,i_axis): #defining the function\n",
        "    X = Conv2D(filters = Identity_Block_filters,kernel_size = i_kernal_size, strides = i_strides) (X) #CONV2d\n",
        "    X = BatchNormalization(axis = i_axis)(X) #BN\n",
        "    X = Activation('relu')(X) #RELU\n",
        "    return X"
      ],
      "execution_count": null,
      "outputs": []
    },
    {
      "cell_type": "markdown",
      "metadata": {
        "id": "mHFme3ASyUC0"
      },
      "source": [
        "**CONV_BN**"
      ]
    },
    {
      "cell_type": "code",
      "metadata": {
        "id": "7GQiP6jwyZ7S"
      },
      "source": [
        "def CONV_BN(X,Identity_Block_filters,i_kernal_size,i_strides,i_padding,i_axis): #defining the function\n",
        "    X = Conv2D(filters = Identity_Block_filters,kernel_size = i_kernal_size, strides = i_strides, padding = i_padding ) (X) #CONV2d\n",
        "    X = BatchNormalization(axis = i_axis)(X) #BN\n",
        "    return X"
      ],
      "execution_count": null,
      "outputs": []
    },
    {
      "cell_type": "markdown",
      "metadata": {
        "id": "k7bswVjhrLUH"
      },
      "source": [
        "**Defining Identity Block**"
      ]
    },
    {
      "cell_type": "code",
      "metadata": {
        "id": "u9hTr2_VkEkH"
      },
      "source": [
        "def Identity_Block(X,Identity_Block_filters): #defining the function\n",
        "    X_Cal = X #Storing the input to add it later\n",
        "    X = CONV_BN_RELU(X,Identity_Block_filters[0],(1,1),(1,1),'valid',3) #calling the function\n",
        "    X = CONV_BN_RELU(X,Identity_Block_filters[1],(3,3),(1,1),'same',3) #calling the function\n",
        "    X = CONV_BN(X,Identity_Block_filters[2],(1,1),(1,1),'valid',3) #calling the function\n",
        "    X = Add()([X,X_Cal]) #Adding the input to output\n",
        "    X = Activation('relu')(X) #RELU\n",
        "    return X"
      ],
      "execution_count": null,
      "outputs": []
    },
    {
      "cell_type": "markdown",
      "metadata": {
        "id": "TySJEYfjrmpb"
      },
      "source": [
        "**Defining Convolutional Block**"
      ]
    },
    {
      "cell_type": "code",
      "metadata": {
        "id": "JF_U9kCiq_Tf"
      },
      "source": [
        "def Convolution_Block(X,Identity_Block_filters,stride): #defining the function\n",
        "    X_Cal = X #Storing the input to add it later\n",
        "    X_Cal = CONV_BN(X,Identity_Block_filters[2],(1,1),stride,'valid',3) #changing the size\n",
        "    X = CONV_BN_RELU(X,Identity_Block_filters[0],(1,1),stride,'valid',3) #calling the function\n",
        "    X = CONV_BN_RELU(X,Identity_Block_filters[1],(3,3),(1,1),'same',3) #calling the function\n",
        "    X = CONV_BN(X,Identity_Block_filters[2],(1,1),(1,1),'valid',3) #calling the function\n",
        "    X = Add()([X,X_Cal]) #Adding the input to output\n",
        "    X = Activation('relu')(X) #RELU\n",
        "    return X"
      ],
      "execution_count": null,
      "outputs": []
    },
    {
      "cell_type": "markdown",
      "metadata": {
        "id": "nhNJj6rYuLjN"
      },
      "source": [
        "**Building RESNET 50 Model**"
      ]
    },
    {
      "cell_type": "code",
      "metadata": {
        "id": "M7eRXauNuK5O"
      },
      "source": [
        "def RESNET(Input_size = (224,224,3),n = 1): #defining RESNET architecture\n",
        "    input = Input(Input_size) \n",
        "    Input_Value = ZeroPadding2D((3,3))(input) #calling each layers and functions to complete architecture\n",
        "    Input_Value = CONV_BN_RELU_NO_PADDING(Input_Value,64,(7,7),(2,2),3)\n",
        "    Input_Value = MaxPooling2D((3,3),strides = (2,2))(Input_Value)\n",
        "    Input_Value = Convolution_Block(Input_Value,[64,64,256],(1,1))\n",
        "    Input_Value = Identity_Block(Input_Value,[64,64,256])\n",
        "    Input_Value = Identity_Block(Input_Value,[64,64,256])\n",
        "    Input_Value = Convolution_Block(Input_Value,[128,128,512],(2,2))\n",
        "    Input_Value = Identity_Block(Input_Value,[128,128,512])\n",
        "    Input_Value = Identity_Block(Input_Value,[128,128,512])\n",
        "    Input_Value = Identity_Block(Input_Value,[128,128,512])\n",
        "    Input_Value = Convolution_Block(Input_Value,[256,256,1024],(2,2))\n",
        "    Input_Value = Identity_Block(Input_Value,[256,256,1024])\n",
        "    Input_Value = Identity_Block(Input_Value,[256,256,1024])\n",
        "    Input_Value = Identity_Block(Input_Value,[256,256,1024])\n",
        "    Input_Value = Identity_Block(Input_Value,[256,256,1024])\n",
        "    Input_Value = Identity_Block(Input_Value,[256,256,1024])\n",
        "    Input_Value = Convolution_Block(Input_Value,[512,512,2048],(2,2))\n",
        "    Input_Value = Identity_Block(Input_Value,[512,512,2048])\n",
        "    Input_Value = Identity_Block(Input_Value,[512,512,2048])\n",
        "    Input_Value = AveragePooling2D((2,2),name = \"avg_pool\")(Input_Value)\n",
        "    Input_Value = Flatten()(Input_Value)\n",
        "    Input_Value = Dense(n,activation='sigmoid',kernel_initializer=glorot_uniform(seed=0))(Input_Value)\n",
        "    model = Model(inputs = input,outputs = Input_Value,name= \"RESNET\") #defining the model\n",
        "    return model #returning the model\n"
      ],
      "execution_count": null,
      "outputs": []
    },
    {
      "cell_type": "code",
      "metadata": {
        "id": "W6oOtT7JKnWR"
      },
      "source": [
        "model = RESNET(Input_size=(224, 224, 3), n = 1) #setting the model"
      ],
      "execution_count": null,
      "outputs": []
    },
    {
      "cell_type": "code",
      "metadata": {
        "id": "_W4MYjACLfMa"
      },
      "source": [
        "model.compile(optimizer = \"adam\",loss=\"binary_crossentropy\",metrics = ['accuracy']) #compiling the model giving optimizer and other attributes"
      ],
      "execution_count": null,
      "outputs": []
    },
    {
      "cell_type": "code",
      "metadata": {
        "colab": {
          "base_uri": "https://localhost:8080/"
        },
        "id": "mxefQaUHW9tR",
        "outputId": "ea2aff32-c39e-4b30-b467-f62bbd91f477"
      },
      "source": [
        "model.summary() #printing the summary"
      ],
      "execution_count": null,
      "outputs": [
        {
          "output_type": "stream",
          "text": [
            "Model: \"RESNET\"\n",
            "__________________________________________________________________________________________________\n",
            "Layer (type)                    Output Shape         Param #     Connected to                     \n",
            "==================================================================================================\n",
            "input_6 (InputLayer)            [(None, 224, 224, 3) 0                                            \n",
            "__________________________________________________________________________________________________\n",
            "zero_padding2d_2 (ZeroPadding2D (None, 230, 230, 3)  0           input_6[0][0]                    \n",
            "__________________________________________________________________________________________________\n",
            "conv2d_106 (Conv2D)             (None, 112, 112, 64) 9472        zero_padding2d_2[0][0]           \n",
            "__________________________________________________________________________________________________\n",
            "batch_normalization_106 (BatchN (None, 112, 112, 64) 256         conv2d_106[0][0]                 \n",
            "__________________________________________________________________________________________________\n",
            "activation_98 (Activation)      (None, 112, 112, 64) 0           batch_normalization_106[0][0]    \n",
            "__________________________________________________________________________________________________\n",
            "max_pooling2d_2 (MaxPooling2D)  (None, 55, 55, 64)   0           activation_98[0][0]              \n",
            "__________________________________________________________________________________________________\n",
            "conv2d_108 (Conv2D)             (None, 55, 55, 64)   4160        max_pooling2d_2[0][0]            \n",
            "__________________________________________________________________________________________________\n",
            "batch_normalization_108 (BatchN (None, 55, 55, 64)   256         conv2d_108[0][0]                 \n",
            "__________________________________________________________________________________________________\n",
            "activation_99 (Activation)      (None, 55, 55, 64)   0           batch_normalization_108[0][0]    \n",
            "__________________________________________________________________________________________________\n",
            "conv2d_109 (Conv2D)             (None, 55, 55, 64)   36928       activation_99[0][0]              \n",
            "__________________________________________________________________________________________________\n",
            "batch_normalization_109 (BatchN (None, 55, 55, 64)   256         conv2d_109[0][0]                 \n",
            "__________________________________________________________________________________________________\n",
            "activation_100 (Activation)     (None, 55, 55, 64)   0           batch_normalization_109[0][0]    \n",
            "__________________________________________________________________________________________________\n",
            "conv2d_110 (Conv2D)             (None, 55, 55, 256)  16640       activation_100[0][0]             \n",
            "__________________________________________________________________________________________________\n",
            "conv2d_107 (Conv2D)             (None, 55, 55, 256)  16640       max_pooling2d_2[0][0]            \n",
            "__________________________________________________________________________________________________\n",
            "batch_normalization_110 (BatchN (None, 55, 55, 256)  1024        conv2d_110[0][0]                 \n",
            "__________________________________________________________________________________________________\n",
            "batch_normalization_107 (BatchN (None, 55, 55, 256)  1024        conv2d_107[0][0]                 \n",
            "__________________________________________________________________________________________________\n",
            "add_32 (Add)                    (None, 55, 55, 256)  0           batch_normalization_110[0][0]    \n",
            "                                                                 batch_normalization_107[0][0]    \n",
            "__________________________________________________________________________________________________\n",
            "activation_101 (Activation)     (None, 55, 55, 256)  0           add_32[0][0]                     \n",
            "__________________________________________________________________________________________________\n",
            "conv2d_111 (Conv2D)             (None, 55, 55, 64)   16448       activation_101[0][0]             \n",
            "__________________________________________________________________________________________________\n",
            "batch_normalization_111 (BatchN (None, 55, 55, 64)   256         conv2d_111[0][0]                 \n",
            "__________________________________________________________________________________________________\n",
            "activation_102 (Activation)     (None, 55, 55, 64)   0           batch_normalization_111[0][0]    \n",
            "__________________________________________________________________________________________________\n",
            "conv2d_112 (Conv2D)             (None, 55, 55, 64)   36928       activation_102[0][0]             \n",
            "__________________________________________________________________________________________________\n",
            "batch_normalization_112 (BatchN (None, 55, 55, 64)   256         conv2d_112[0][0]                 \n",
            "__________________________________________________________________________________________________\n",
            "activation_103 (Activation)     (None, 55, 55, 64)   0           batch_normalization_112[0][0]    \n",
            "__________________________________________________________________________________________________\n",
            "conv2d_113 (Conv2D)             (None, 55, 55, 256)  16640       activation_103[0][0]             \n",
            "__________________________________________________________________________________________________\n",
            "batch_normalization_113 (BatchN (None, 55, 55, 256)  1024        conv2d_113[0][0]                 \n",
            "__________________________________________________________________________________________________\n",
            "add_33 (Add)                    (None, 55, 55, 256)  0           batch_normalization_113[0][0]    \n",
            "                                                                 activation_101[0][0]             \n",
            "__________________________________________________________________________________________________\n",
            "activation_104 (Activation)     (None, 55, 55, 256)  0           add_33[0][0]                     \n",
            "__________________________________________________________________________________________________\n",
            "conv2d_114 (Conv2D)             (None, 55, 55, 64)   16448       activation_104[0][0]             \n",
            "__________________________________________________________________________________________________\n",
            "batch_normalization_114 (BatchN (None, 55, 55, 64)   256         conv2d_114[0][0]                 \n",
            "__________________________________________________________________________________________________\n",
            "activation_105 (Activation)     (None, 55, 55, 64)   0           batch_normalization_114[0][0]    \n",
            "__________________________________________________________________________________________________\n",
            "conv2d_115 (Conv2D)             (None, 55, 55, 64)   36928       activation_105[0][0]             \n",
            "__________________________________________________________________________________________________\n",
            "batch_normalization_115 (BatchN (None, 55, 55, 64)   256         conv2d_115[0][0]                 \n",
            "__________________________________________________________________________________________________\n",
            "activation_106 (Activation)     (None, 55, 55, 64)   0           batch_normalization_115[0][0]    \n",
            "__________________________________________________________________________________________________\n",
            "conv2d_116 (Conv2D)             (None, 55, 55, 256)  16640       activation_106[0][0]             \n",
            "__________________________________________________________________________________________________\n",
            "batch_normalization_116 (BatchN (None, 55, 55, 256)  1024        conv2d_116[0][0]                 \n",
            "__________________________________________________________________________________________________\n",
            "add_34 (Add)                    (None, 55, 55, 256)  0           batch_normalization_116[0][0]    \n",
            "                                                                 activation_104[0][0]             \n",
            "__________________________________________________________________________________________________\n",
            "activation_107 (Activation)     (None, 55, 55, 256)  0           add_34[0][0]                     \n",
            "__________________________________________________________________________________________________\n",
            "conv2d_118 (Conv2D)             (None, 28, 28, 128)  32896       activation_107[0][0]             \n",
            "__________________________________________________________________________________________________\n",
            "batch_normalization_118 (BatchN (None, 28, 28, 128)  512         conv2d_118[0][0]                 \n",
            "__________________________________________________________________________________________________\n",
            "activation_108 (Activation)     (None, 28, 28, 128)  0           batch_normalization_118[0][0]    \n",
            "__________________________________________________________________________________________________\n",
            "conv2d_119 (Conv2D)             (None, 28, 28, 128)  147584      activation_108[0][0]             \n",
            "__________________________________________________________________________________________________\n",
            "batch_normalization_119 (BatchN (None, 28, 28, 128)  512         conv2d_119[0][0]                 \n",
            "__________________________________________________________________________________________________\n",
            "activation_109 (Activation)     (None, 28, 28, 128)  0           batch_normalization_119[0][0]    \n",
            "__________________________________________________________________________________________________\n",
            "conv2d_120 (Conv2D)             (None, 28, 28, 512)  66048       activation_109[0][0]             \n",
            "__________________________________________________________________________________________________\n",
            "conv2d_117 (Conv2D)             (None, 28, 28, 512)  131584      activation_107[0][0]             \n",
            "__________________________________________________________________________________________________\n",
            "batch_normalization_120 (BatchN (None, 28, 28, 512)  2048        conv2d_120[0][0]                 \n",
            "__________________________________________________________________________________________________\n",
            "batch_normalization_117 (BatchN (None, 28, 28, 512)  2048        conv2d_117[0][0]                 \n",
            "__________________________________________________________________________________________________\n",
            "add_35 (Add)                    (None, 28, 28, 512)  0           batch_normalization_120[0][0]    \n",
            "                                                                 batch_normalization_117[0][0]    \n",
            "__________________________________________________________________________________________________\n",
            "activation_110 (Activation)     (None, 28, 28, 512)  0           add_35[0][0]                     \n",
            "__________________________________________________________________________________________________\n",
            "conv2d_121 (Conv2D)             (None, 28, 28, 128)  65664       activation_110[0][0]             \n",
            "__________________________________________________________________________________________________\n",
            "batch_normalization_121 (BatchN (None, 28, 28, 128)  512         conv2d_121[0][0]                 \n",
            "__________________________________________________________________________________________________\n",
            "activation_111 (Activation)     (None, 28, 28, 128)  0           batch_normalization_121[0][0]    \n",
            "__________________________________________________________________________________________________\n",
            "conv2d_122 (Conv2D)             (None, 28, 28, 128)  147584      activation_111[0][0]             \n",
            "__________________________________________________________________________________________________\n",
            "batch_normalization_122 (BatchN (None, 28, 28, 128)  512         conv2d_122[0][0]                 \n",
            "__________________________________________________________________________________________________\n",
            "activation_112 (Activation)     (None, 28, 28, 128)  0           batch_normalization_122[0][0]    \n",
            "__________________________________________________________________________________________________\n",
            "conv2d_123 (Conv2D)             (None, 28, 28, 512)  66048       activation_112[0][0]             \n",
            "__________________________________________________________________________________________________\n",
            "batch_normalization_123 (BatchN (None, 28, 28, 512)  2048        conv2d_123[0][0]                 \n",
            "__________________________________________________________________________________________________\n",
            "add_36 (Add)                    (None, 28, 28, 512)  0           batch_normalization_123[0][0]    \n",
            "                                                                 activation_110[0][0]             \n",
            "__________________________________________________________________________________________________\n",
            "activation_113 (Activation)     (None, 28, 28, 512)  0           add_36[0][0]                     \n",
            "__________________________________________________________________________________________________\n",
            "conv2d_124 (Conv2D)             (None, 28, 28, 128)  65664       activation_113[0][0]             \n",
            "__________________________________________________________________________________________________\n",
            "batch_normalization_124 (BatchN (None, 28, 28, 128)  512         conv2d_124[0][0]                 \n",
            "__________________________________________________________________________________________________\n",
            "activation_114 (Activation)     (None, 28, 28, 128)  0           batch_normalization_124[0][0]    \n",
            "__________________________________________________________________________________________________\n",
            "conv2d_125 (Conv2D)             (None, 28, 28, 128)  147584      activation_114[0][0]             \n",
            "__________________________________________________________________________________________________\n",
            "batch_normalization_125 (BatchN (None, 28, 28, 128)  512         conv2d_125[0][0]                 \n",
            "__________________________________________________________________________________________________\n",
            "activation_115 (Activation)     (None, 28, 28, 128)  0           batch_normalization_125[0][0]    \n",
            "__________________________________________________________________________________________________\n",
            "conv2d_126 (Conv2D)             (None, 28, 28, 512)  66048       activation_115[0][0]             \n",
            "__________________________________________________________________________________________________\n",
            "batch_normalization_126 (BatchN (None, 28, 28, 512)  2048        conv2d_126[0][0]                 \n",
            "__________________________________________________________________________________________________\n",
            "add_37 (Add)                    (None, 28, 28, 512)  0           batch_normalization_126[0][0]    \n",
            "                                                                 activation_113[0][0]             \n",
            "__________________________________________________________________________________________________\n",
            "activation_116 (Activation)     (None, 28, 28, 512)  0           add_37[0][0]                     \n",
            "__________________________________________________________________________________________________\n",
            "conv2d_127 (Conv2D)             (None, 28, 28, 128)  65664       activation_116[0][0]             \n",
            "__________________________________________________________________________________________________\n",
            "batch_normalization_127 (BatchN (None, 28, 28, 128)  512         conv2d_127[0][0]                 \n",
            "__________________________________________________________________________________________________\n",
            "activation_117 (Activation)     (None, 28, 28, 128)  0           batch_normalization_127[0][0]    \n",
            "__________________________________________________________________________________________________\n",
            "conv2d_128 (Conv2D)             (None, 28, 28, 128)  147584      activation_117[0][0]             \n",
            "__________________________________________________________________________________________________\n",
            "batch_normalization_128 (BatchN (None, 28, 28, 128)  512         conv2d_128[0][0]                 \n",
            "__________________________________________________________________________________________________\n",
            "activation_118 (Activation)     (None, 28, 28, 128)  0           batch_normalization_128[0][0]    \n",
            "__________________________________________________________________________________________________\n",
            "conv2d_129 (Conv2D)             (None, 28, 28, 512)  66048       activation_118[0][0]             \n",
            "__________________________________________________________________________________________________\n",
            "batch_normalization_129 (BatchN (None, 28, 28, 512)  2048        conv2d_129[0][0]                 \n",
            "__________________________________________________________________________________________________\n",
            "add_38 (Add)                    (None, 28, 28, 512)  0           batch_normalization_129[0][0]    \n",
            "                                                                 activation_116[0][0]             \n",
            "__________________________________________________________________________________________________\n",
            "activation_119 (Activation)     (None, 28, 28, 512)  0           add_38[0][0]                     \n",
            "__________________________________________________________________________________________________\n",
            "conv2d_131 (Conv2D)             (None, 14, 14, 256)  131328      activation_119[0][0]             \n",
            "__________________________________________________________________________________________________\n",
            "batch_normalization_131 (BatchN (None, 14, 14, 256)  1024        conv2d_131[0][0]                 \n",
            "__________________________________________________________________________________________________\n",
            "activation_120 (Activation)     (None, 14, 14, 256)  0           batch_normalization_131[0][0]    \n",
            "__________________________________________________________________________________________________\n",
            "conv2d_132 (Conv2D)             (None, 14, 14, 256)  590080      activation_120[0][0]             \n",
            "__________________________________________________________________________________________________\n",
            "batch_normalization_132 (BatchN (None, 14, 14, 256)  1024        conv2d_132[0][0]                 \n",
            "__________________________________________________________________________________________________\n",
            "activation_121 (Activation)     (None, 14, 14, 256)  0           batch_normalization_132[0][0]    \n",
            "__________________________________________________________________________________________________\n",
            "conv2d_133 (Conv2D)             (None, 14, 14, 1024) 263168      activation_121[0][0]             \n",
            "__________________________________________________________________________________________________\n",
            "conv2d_130 (Conv2D)             (None, 14, 14, 1024) 525312      activation_119[0][0]             \n",
            "__________________________________________________________________________________________________\n",
            "batch_normalization_133 (BatchN (None, 14, 14, 1024) 4096        conv2d_133[0][0]                 \n",
            "__________________________________________________________________________________________________\n",
            "batch_normalization_130 (BatchN (None, 14, 14, 1024) 4096        conv2d_130[0][0]                 \n",
            "__________________________________________________________________________________________________\n",
            "add_39 (Add)                    (None, 14, 14, 1024) 0           batch_normalization_133[0][0]    \n",
            "                                                                 batch_normalization_130[0][0]    \n",
            "__________________________________________________________________________________________________\n",
            "activation_122 (Activation)     (None, 14, 14, 1024) 0           add_39[0][0]                     \n",
            "__________________________________________________________________________________________________\n",
            "conv2d_134 (Conv2D)             (None, 14, 14, 256)  262400      activation_122[0][0]             \n",
            "__________________________________________________________________________________________________\n",
            "batch_normalization_134 (BatchN (None, 14, 14, 256)  1024        conv2d_134[0][0]                 \n",
            "__________________________________________________________________________________________________\n",
            "activation_123 (Activation)     (None, 14, 14, 256)  0           batch_normalization_134[0][0]    \n",
            "__________________________________________________________________________________________________\n",
            "conv2d_135 (Conv2D)             (None, 14, 14, 256)  590080      activation_123[0][0]             \n",
            "__________________________________________________________________________________________________\n",
            "batch_normalization_135 (BatchN (None, 14, 14, 256)  1024        conv2d_135[0][0]                 \n",
            "__________________________________________________________________________________________________\n",
            "activation_124 (Activation)     (None, 14, 14, 256)  0           batch_normalization_135[0][0]    \n",
            "__________________________________________________________________________________________________\n",
            "conv2d_136 (Conv2D)             (None, 14, 14, 1024) 263168      activation_124[0][0]             \n",
            "__________________________________________________________________________________________________\n",
            "batch_normalization_136 (BatchN (None, 14, 14, 1024) 4096        conv2d_136[0][0]                 \n",
            "__________________________________________________________________________________________________\n",
            "add_40 (Add)                    (None, 14, 14, 1024) 0           batch_normalization_136[0][0]    \n",
            "                                                                 activation_122[0][0]             \n",
            "__________________________________________________________________________________________________\n",
            "activation_125 (Activation)     (None, 14, 14, 1024) 0           add_40[0][0]                     \n",
            "__________________________________________________________________________________________________\n",
            "conv2d_137 (Conv2D)             (None, 14, 14, 256)  262400      activation_125[0][0]             \n",
            "__________________________________________________________________________________________________\n",
            "batch_normalization_137 (BatchN (None, 14, 14, 256)  1024        conv2d_137[0][0]                 \n",
            "__________________________________________________________________________________________________\n",
            "activation_126 (Activation)     (None, 14, 14, 256)  0           batch_normalization_137[0][0]    \n",
            "__________________________________________________________________________________________________\n",
            "conv2d_138 (Conv2D)             (None, 14, 14, 256)  590080      activation_126[0][0]             \n",
            "__________________________________________________________________________________________________\n",
            "batch_normalization_138 (BatchN (None, 14, 14, 256)  1024        conv2d_138[0][0]                 \n",
            "__________________________________________________________________________________________________\n",
            "activation_127 (Activation)     (None, 14, 14, 256)  0           batch_normalization_138[0][0]    \n",
            "__________________________________________________________________________________________________\n",
            "conv2d_139 (Conv2D)             (None, 14, 14, 1024) 263168      activation_127[0][0]             \n",
            "__________________________________________________________________________________________________\n",
            "batch_normalization_139 (BatchN (None, 14, 14, 1024) 4096        conv2d_139[0][0]                 \n",
            "__________________________________________________________________________________________________\n",
            "add_41 (Add)                    (None, 14, 14, 1024) 0           batch_normalization_139[0][0]    \n",
            "                                                                 activation_125[0][0]             \n",
            "__________________________________________________________________________________________________\n",
            "activation_128 (Activation)     (None, 14, 14, 1024) 0           add_41[0][0]                     \n",
            "__________________________________________________________________________________________________\n",
            "conv2d_140 (Conv2D)             (None, 14, 14, 256)  262400      activation_128[0][0]             \n",
            "__________________________________________________________________________________________________\n",
            "batch_normalization_140 (BatchN (None, 14, 14, 256)  1024        conv2d_140[0][0]                 \n",
            "__________________________________________________________________________________________________\n",
            "activation_129 (Activation)     (None, 14, 14, 256)  0           batch_normalization_140[0][0]    \n",
            "__________________________________________________________________________________________________\n",
            "conv2d_141 (Conv2D)             (None, 14, 14, 256)  590080      activation_129[0][0]             \n",
            "__________________________________________________________________________________________________\n",
            "batch_normalization_141 (BatchN (None, 14, 14, 256)  1024        conv2d_141[0][0]                 \n",
            "__________________________________________________________________________________________________\n",
            "activation_130 (Activation)     (None, 14, 14, 256)  0           batch_normalization_141[0][0]    \n",
            "__________________________________________________________________________________________________\n",
            "conv2d_142 (Conv2D)             (None, 14, 14, 1024) 263168      activation_130[0][0]             \n",
            "__________________________________________________________________________________________________\n",
            "batch_normalization_142 (BatchN (None, 14, 14, 1024) 4096        conv2d_142[0][0]                 \n",
            "__________________________________________________________________________________________________\n",
            "add_42 (Add)                    (None, 14, 14, 1024) 0           batch_normalization_142[0][0]    \n",
            "                                                                 activation_128[0][0]             \n",
            "__________________________________________________________________________________________________\n",
            "activation_131 (Activation)     (None, 14, 14, 1024) 0           add_42[0][0]                     \n",
            "__________________________________________________________________________________________________\n",
            "conv2d_143 (Conv2D)             (None, 14, 14, 256)  262400      activation_131[0][0]             \n",
            "__________________________________________________________________________________________________\n",
            "batch_normalization_143 (BatchN (None, 14, 14, 256)  1024        conv2d_143[0][0]                 \n",
            "__________________________________________________________________________________________________\n",
            "activation_132 (Activation)     (None, 14, 14, 256)  0           batch_normalization_143[0][0]    \n",
            "__________________________________________________________________________________________________\n",
            "conv2d_144 (Conv2D)             (None, 14, 14, 256)  590080      activation_132[0][0]             \n",
            "__________________________________________________________________________________________________\n",
            "batch_normalization_144 (BatchN (None, 14, 14, 256)  1024        conv2d_144[0][0]                 \n",
            "__________________________________________________________________________________________________\n",
            "activation_133 (Activation)     (None, 14, 14, 256)  0           batch_normalization_144[0][0]    \n",
            "__________________________________________________________________________________________________\n",
            "conv2d_145 (Conv2D)             (None, 14, 14, 1024) 263168      activation_133[0][0]             \n",
            "__________________________________________________________________________________________________\n",
            "batch_normalization_145 (BatchN (None, 14, 14, 1024) 4096        conv2d_145[0][0]                 \n",
            "__________________________________________________________________________________________________\n",
            "add_43 (Add)                    (None, 14, 14, 1024) 0           batch_normalization_145[0][0]    \n",
            "                                                                 activation_131[0][0]             \n",
            "__________________________________________________________________________________________________\n",
            "activation_134 (Activation)     (None, 14, 14, 1024) 0           add_43[0][0]                     \n",
            "__________________________________________________________________________________________________\n",
            "conv2d_146 (Conv2D)             (None, 14, 14, 256)  262400      activation_134[0][0]             \n",
            "__________________________________________________________________________________________________\n",
            "batch_normalization_146 (BatchN (None, 14, 14, 256)  1024        conv2d_146[0][0]                 \n",
            "__________________________________________________________________________________________________\n",
            "activation_135 (Activation)     (None, 14, 14, 256)  0           batch_normalization_146[0][0]    \n",
            "__________________________________________________________________________________________________\n",
            "conv2d_147 (Conv2D)             (None, 14, 14, 256)  590080      activation_135[0][0]             \n",
            "__________________________________________________________________________________________________\n",
            "batch_normalization_147 (BatchN (None, 14, 14, 256)  1024        conv2d_147[0][0]                 \n",
            "__________________________________________________________________________________________________\n",
            "activation_136 (Activation)     (None, 14, 14, 256)  0           batch_normalization_147[0][0]    \n",
            "__________________________________________________________________________________________________\n",
            "conv2d_148 (Conv2D)             (None, 14, 14, 1024) 263168      activation_136[0][0]             \n",
            "__________________________________________________________________________________________________\n",
            "batch_normalization_148 (BatchN (None, 14, 14, 1024) 4096        conv2d_148[0][0]                 \n",
            "__________________________________________________________________________________________________\n",
            "add_44 (Add)                    (None, 14, 14, 1024) 0           batch_normalization_148[0][0]    \n",
            "                                                                 activation_134[0][0]             \n",
            "__________________________________________________________________________________________________\n",
            "activation_137 (Activation)     (None, 14, 14, 1024) 0           add_44[0][0]                     \n",
            "__________________________________________________________________________________________________\n",
            "conv2d_150 (Conv2D)             (None, 7, 7, 512)    524800      activation_137[0][0]             \n",
            "__________________________________________________________________________________________________\n",
            "batch_normalization_150 (BatchN (None, 7, 7, 512)    2048        conv2d_150[0][0]                 \n",
            "__________________________________________________________________________________________________\n",
            "activation_138 (Activation)     (None, 7, 7, 512)    0           batch_normalization_150[0][0]    \n",
            "__________________________________________________________________________________________________\n",
            "conv2d_151 (Conv2D)             (None, 7, 7, 512)    2359808     activation_138[0][0]             \n",
            "__________________________________________________________________________________________________\n",
            "batch_normalization_151 (BatchN (None, 7, 7, 512)    2048        conv2d_151[0][0]                 \n",
            "__________________________________________________________________________________________________\n",
            "activation_139 (Activation)     (None, 7, 7, 512)    0           batch_normalization_151[0][0]    \n",
            "__________________________________________________________________________________________________\n",
            "conv2d_152 (Conv2D)             (None, 7, 7, 2048)   1050624     activation_139[0][0]             \n",
            "__________________________________________________________________________________________________\n",
            "conv2d_149 (Conv2D)             (None, 7, 7, 2048)   2099200     activation_137[0][0]             \n",
            "__________________________________________________________________________________________________\n",
            "batch_normalization_152 (BatchN (None, 7, 7, 2048)   8192        conv2d_152[0][0]                 \n",
            "__________________________________________________________________________________________________\n",
            "batch_normalization_149 (BatchN (None, 7, 7, 2048)   8192        conv2d_149[0][0]                 \n",
            "__________________________________________________________________________________________________\n",
            "add_45 (Add)                    (None, 7, 7, 2048)   0           batch_normalization_152[0][0]    \n",
            "                                                                 batch_normalization_149[0][0]    \n",
            "__________________________________________________________________________________________________\n",
            "activation_140 (Activation)     (None, 7, 7, 2048)   0           add_45[0][0]                     \n",
            "__________________________________________________________________________________________________\n",
            "conv2d_153 (Conv2D)             (None, 7, 7, 512)    1049088     activation_140[0][0]             \n",
            "__________________________________________________________________________________________________\n",
            "batch_normalization_153 (BatchN (None, 7, 7, 512)    2048        conv2d_153[0][0]                 \n",
            "__________________________________________________________________________________________________\n",
            "activation_141 (Activation)     (None, 7, 7, 512)    0           batch_normalization_153[0][0]    \n",
            "__________________________________________________________________________________________________\n",
            "conv2d_154 (Conv2D)             (None, 7, 7, 512)    2359808     activation_141[0][0]             \n",
            "__________________________________________________________________________________________________\n",
            "batch_normalization_154 (BatchN (None, 7, 7, 512)    2048        conv2d_154[0][0]                 \n",
            "__________________________________________________________________________________________________\n",
            "activation_142 (Activation)     (None, 7, 7, 512)    0           batch_normalization_154[0][0]    \n",
            "__________________________________________________________________________________________________\n",
            "conv2d_155 (Conv2D)             (None, 7, 7, 2048)   1050624     activation_142[0][0]             \n",
            "__________________________________________________________________________________________________\n",
            "batch_normalization_155 (BatchN (None, 7, 7, 2048)   8192        conv2d_155[0][0]                 \n",
            "__________________________________________________________________________________________________\n",
            "add_46 (Add)                    (None, 7, 7, 2048)   0           batch_normalization_155[0][0]    \n",
            "                                                                 activation_140[0][0]             \n",
            "__________________________________________________________________________________________________\n",
            "activation_143 (Activation)     (None, 7, 7, 2048)   0           add_46[0][0]                     \n",
            "__________________________________________________________________________________________________\n",
            "conv2d_156 (Conv2D)             (None, 7, 7, 512)    1049088     activation_143[0][0]             \n",
            "__________________________________________________________________________________________________\n",
            "batch_normalization_156 (BatchN (None, 7, 7, 512)    2048        conv2d_156[0][0]                 \n",
            "__________________________________________________________________________________________________\n",
            "activation_144 (Activation)     (None, 7, 7, 512)    0           batch_normalization_156[0][0]    \n",
            "__________________________________________________________________________________________________\n",
            "conv2d_157 (Conv2D)             (None, 7, 7, 512)    2359808     activation_144[0][0]             \n",
            "__________________________________________________________________________________________________\n",
            "batch_normalization_157 (BatchN (None, 7, 7, 512)    2048        conv2d_157[0][0]                 \n",
            "__________________________________________________________________________________________________\n",
            "activation_145 (Activation)     (None, 7, 7, 512)    0           batch_normalization_157[0][0]    \n",
            "__________________________________________________________________________________________________\n",
            "conv2d_158 (Conv2D)             (None, 7, 7, 2048)   1050624     activation_145[0][0]             \n",
            "__________________________________________________________________________________________________\n",
            "batch_normalization_158 (BatchN (None, 7, 7, 2048)   8192        conv2d_158[0][0]                 \n",
            "__________________________________________________________________________________________________\n",
            "add_47 (Add)                    (None, 7, 7, 2048)   0           batch_normalization_158[0][0]    \n",
            "                                                                 activation_143[0][0]             \n",
            "__________________________________________________________________________________________________\n",
            "activation_146 (Activation)     (None, 7, 7, 2048)   0           add_47[0][0]                     \n",
            "__________________________________________________________________________________________________\n",
            "avg_pool (AveragePooling2D)     (None, 3, 3, 2048)   0           activation_146[0][0]             \n",
            "__________________________________________________________________________________________________\n",
            "flatten_2 (Flatten)             (None, 18432)        0           avg_pool[0][0]                   \n",
            "__________________________________________________________________________________________________\n",
            "dense_2 (Dense)                 (None, 1)            18433       flatten_2[0][0]                  \n",
            "==================================================================================================\n",
            "Total params: 23,606,145\n",
            "Trainable params: 23,553,025\n",
            "Non-trainable params: 53,120\n",
            "__________________________________________________________________________________________________\n"
          ],
          "name": "stdout"
        }
      ]
    },
    {
      "cell_type": "markdown",
      "metadata": {
        "id": "NJXYU6tNvJjb"
      },
      "source": [
        "**Training the Data**"
      ]
    },
    {
      "cell_type": "code",
      "metadata": {
        "colab": {
          "background_save": true,
          "base_uri": "https://localhost:8080/"
        },
        "id": "r8qGzGErL59V",
        "outputId": "fbf29ca5-4495-46d8-b858-009b99edbeb9"
      },
      "source": [
        "model.fit(final_training,final_training_type,epochs = 10, batch_size = 64) #training "
      ],
      "execution_count": null,
      "outputs": [
        {
          "output_type": "stream",
          "text": [
            "Epoch 1/10\n",
            "17/17 [==============================] - 767s 44s/step - loss: 1.9421 - accuracy: 0.5297\n",
            "Epoch 2/10\n",
            "17/17 [==============================] - 739s 43s/step - loss: 0.6951 - accuracy: 0.6195\n",
            "Epoch 3/10\n",
            "17/17 [==============================] - 741s 44s/step - loss: 0.6010 - accuracy: 0.7056\n",
            "Epoch 4/10\n",
            "17/17 [==============================] - 742s 44s/step - loss: 0.5433 - accuracy: 0.7396\n",
            "Epoch 5/10\n",
            "17/17 [==============================] - 747s 44s/step - loss: 0.4311 - accuracy: 0.8048\n",
            "Epoch 6/10\n",
            "17/17 [==============================] - 746s 44s/step - loss: 0.2564 - accuracy: 0.9275\n",
            "Epoch 7/10\n",
            "17/17 [==============================] - 738s 43s/step - loss: 0.3133 - accuracy: 0.9320\n",
            "Epoch 8/10\n",
            "17/17 [==============================] - 742s 44s/step - loss: 0.4356 - accuracy: 0.8257\n",
            "Epoch 9/10\n",
            "17/17 [==============================] - 735s 43s/step - loss: 0.5608 - accuracy: 0.7261\n",
            "Epoch 10/10\n",
            "17/17 [==============================] - 738s 43s/step - loss: 0.2126 - accuracy: 0.9092\n"
          ],
          "name": "stdout"
        },
        {
          "output_type": "execute_result",
          "data": {
            "text/plain": [
              "<tensorflow.python.keras.callbacks.History at 0x7f7611ea41d0>"
            ]
          },
          "metadata": {
            "tags": []
          },
          "execution_count": 0
        }
      ]
    },
    {
      "cell_type": "markdown",
      "metadata": {
        "id": "1z6cBjdcvQxh"
      },
      "source": [
        "**Testing the Data**"
      ]
    },
    {
      "cell_type": "code",
      "metadata": {
        "id": "VeCggY5KvMJR",
        "colab": {
          "base_uri": "https://localhost:8080/"
        },
        "outputId": "3d1d721e-40eb-472c-92a8-854d78202d66"
      },
      "source": [
        "count = 0\n",
        "result = model.predict(final_testing) #predicting the results\n",
        "for i in range(0,len(final_testing_type)):\n",
        "    if result[i] > 0.50: #changing values to 0 or 1\n",
        "        result[i] = 1\n",
        "    else:\n",
        "        result[i] = 0\n",
        "for i in range(0,len(final_testing_type)):\n",
        "    if result[i] == final_testing_type[i]:\n",
        "        count = count + 1 #calculating accuracy\n",
        "print(\"Accuracy = \",count/len(final_testing_type) * 100)"
      ],
      "execution_count": null,
      "outputs": [
        {
          "output_type": "stream",
          "text": [
            "Accuracy =  69.66292134831461\n"
          ],
          "name": "stdout"
        }
      ]
    },
    {
      "cell_type": "markdown",
      "metadata": {
        "id": "nZOedFcqQmox"
      },
      "source": [
        "**Confusion Matrix**"
      ]
    },
    {
      "cell_type": "code",
      "metadata": {
        "id": "5Otx1Tm5Qpag",
        "colab": {
          "base_uri": "https://localhost:8080/"
        },
        "outputId": "086abc17-c818-4ef0-9578-398b125f8fe7"
      },
      "source": [
        "from sklearn import metrics #showing the confusion matrix\n",
        "print(metrics.confusion_matrix(final_testing_type,result, labels=[0,1]))\n",
        "print(metrics.classification_report(final_testing_type,result, labels=[0,1]))"
      ],
      "execution_count": null,
      "outputs": [
        {
          "output_type": "stream",
          "text": [
            "[[105  39]\n",
            " [ 42  81]]\n",
            "              precision    recall  f1-score   support\n",
            "\n",
            "           0       0.71      0.73      0.72       144\n",
            "           1       0.68      0.66      0.67       123\n",
            "\n",
            "    accuracy                           0.70       267\n",
            "   macro avg       0.69      0.69      0.69       267\n",
            "weighted avg       0.70      0.70      0.70       267\n",
            "\n"
          ],
          "name": "stdout"
        }
      ]
    },
    {
      "cell_type": "markdown",
      "metadata": {
        "id": "RLPsRkNXF4hY"
      },
      "source": [
        "**Pandas Profiling**"
      ]
    },
    {
      "cell_type": "code",
      "metadata": {
        "id": "gyvDVRU4F7pb"
      },
      "source": [
        "data = [] #pandas profiling\n",
        "for i in range(0,len(result)):\n",
        "    data.append([final_testing_type[i],int(result[i][0])])\n",
        "df = pd.DataFrame(data,columns = ['Input','Output'])\n",
        "print(df)\n",
        "profile = df.profile_report(title='Pandas Profiling Report')\n",
        "profile"
      ],
      "execution_count": null,
      "outputs": []
    },
    {
      "cell_type": "markdown",
      "metadata": {
        "id": "_Wjlhab1IiqZ"
      },
      "source": [
        "**Finding Severity Cases**"
      ]
    },
    {
      "cell_type": "code",
      "metadata": {
        "id": "WEZbljbrkQv0",
        "colab": {
          "base_uri": "https://localhost:8080/"
        },
        "outputId": "aca7fd4b-107c-41db-a355-5bbd8ccae8a1"
      },
      "source": [
        "outputs = []\n",
        "for i in model.layers:\n",
        "    outputs.append(i.output)\n",
        "maps = keras_back.function([model.input], [outputs])\n",
        "l_m_h = [0,0,0]\n",
        "sl = [\"Low\",\"Medium\",\"High\"] #defining severity levels\n",
        "covid_index = [i for i, n in enumerate(final_testing_type) if n == 1] #obtaining index of covid positive images\n",
        "for i in covid_index:\n",
        "    image = final_training[i:i+1] \n",
        "    feature_map = maps([image]) #getting the feature map\n",
        "    cnn_outputs = feature_map[0][0][176] #the final layer\n",
        "    if cnn_outputs < 0.45: #assigning severity\n",
        "          l_m_h[0] = l_m_h[0] + 1\n",
        "    if cnn_outputs > 0.45 and cnn_outputs < 0.50 :\n",
        "          l_m_h[1] = l_m_h[1] + 1\n",
        "    if cnn_outputs > 0.50:\n",
        "          l_m_h[2] = l_m_h[2] + 1\n",
        "print(str(sl[0]) + \" - \" + str(l_m_h[0])) #printing the results\n",
        "print(str(sl[1]) + \" - \" + str(l_m_h[1]))\n",
        "print(str(sl[2]) + \" - \" + str(l_m_h[2]))"
      ],
      "execution_count": null,
      "outputs": [
        {
          "output_type": "stream",
          "text": [
            "Low - 53\n",
            "Medium - 8\n",
            "High - 62\n"
          ],
          "name": "stdout"
        }
      ]
    }
  ]
}